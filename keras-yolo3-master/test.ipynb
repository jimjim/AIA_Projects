{
 "cells": [
  {
   "cell_type": "code",
   "execution_count": 4,
   "metadata": {},
   "outputs": [
    {
     "name": "stdout",
     "output_type": "stream",
     "text": [
      "[['str'], ['str3']]\n"
     ]
    }
   ],
   "source": [
    "ims = []/\n",
    "ims += [['str']]\n",
    "ims += [['str3']]\n",
    "print(ims)"
   ]
  },
  {
   "cell_type": "code",
   "execution_count": 13,
   "metadata": {},
   "outputs": [],
   "source": [
    "import numpy as np"
   ]
  },
  {
   "cell_type": "code",
   "execution_count": 14,
   "metadata": {},
   "outputs": [
    {
     "data": {
      "text/plain": [
       "(3, 5)"
      ]
     },
     "execution_count": 14,
     "metadata": {},
     "output_type": "execute_result"
    }
   ],
   "source": [
    "a = [[11,22,33,44,0.9], [21,20,33,44,0.9], [11,23,33,44,0.9]]\n",
    "a = np.array(a)\n",
    "a.shape"
   ]
  },
  {
   "cell_type": "code",
   "execution_count": 20,
   "metadata": {},
   "outputs": [
    {
     "data": {
      "text/plain": [
       "array([[21. , 20. , 33. , 44. ,  0.9],\n",
       "       [11. , 22. , 33. , 44. ,  0.9],\n",
       "       [11. , 23. , 33. , 44. ,  0.9]])"
      ]
     },
     "execution_count": 20,
     "metadata": {},
     "output_type": "execute_result"
    }
   ],
   "source": [
    "c= a[a[:,1].argsort()]\n",
    "c"
   ]
  },
  {
   "cell_type": "code",
   "execution_count": 21,
   "metadata": {},
   "outputs": [],
   "source": [
    "b = c[::-1]"
   ]
  },
  {
   "cell_type": "code",
   "execution_count": 22,
   "metadata": {},
   "outputs": [
    {
     "data": {
      "text/plain": [
       "array([[11. , 23. , 33. , 44. ,  0.9],\n",
       "       [11. , 22. , 33. , 44. ,  0.9],\n",
       "       [21. , 20. , 33. , 44. ,  0.9]])"
      ]
     },
     "execution_count": 22,
     "metadata": {},
     "output_type": "execute_result"
    }
   ],
   "source": [
    "b"
   ]
  },
  {
   "cell_type": "code",
   "execution_count": 12,
   "metadata": {},
   "outputs": [
    {
     "name": "stdout",
     "output_type": "stream",
     "text": [
      "[11.  22.  33.  44.   0.9]\n",
      "[21.  22.  33.  44.   0.9]\n",
      "[11.  22.  33.  44.   0.9]\n"
     ]
    }
   ],
   "source": [
    "for r in a:\n",
    "    print(r)"
   ]
  },
  {
   "cell_type": "code",
   "execution_count": null,
   "metadata": {},
   "outputs": [],
   "source": [
    "def fprint(fp, wstr):\n",
    "    if fp is None:\n",
    "        pass\n",
    "    else:\n",
    "        fp.write(wstr)"
   ]
  },
  {
   "cell_type": "code",
   "execution_count": 29,
   "metadata": {},
   "outputs": [],
   "source": [
    "box_info = {0:[0], 1:[0],2:[0],3:[0],4:[0]}"
   ]
  },
  {
   "cell_type": "code",
   "execution_count": 43,
   "metadata": {},
   "outputs": [],
   "source": [
    "def insert_box_info__(boxs, cid, bid, p_info):\n",
    "    new_score = p_info[cid]\n",
    "    if boxs[cid][0] == 0: #no stroed score\n",
    "        boxs[cid][0] = new_score\n",
    "        boxs[cid].append([bid, p_info])\n",
    "        print(\"Insert new info wo conflict\")\n",
    "        print(boxs)\n",
    "        return\n",
    "    else:\n",
    "        if new_score>boxs[cid][0]: #replace boxes info\n",
    "            print(\"conflict 1\", boxs)\n",
    "            revised_info = list(boxs[cid][1][1])\n",
    "            revised_info[cid] = -1\n",
    "            unsorted_info = tuple(revised_info)\n",
    "            unsorted_bid = boxs[cid][1][0]\n",
    "            unsorted_cid = np.argmax(unsorted_info)\n",
    "            print(\"unsorted \", unsorted_cid, unsorted_bid, unsorted_info)\n",
    "            boxs[cid][0] = new_score\n",
    "            boxs[cid][1][0] = bid\n",
    "            boxs[cid][1][1] = p_info\n",
    "            print(boxs)\n",
    "            return insert_box_info(boxs,unsorted_cid,unsorted_bid,unsorted_info)\n",
    "        elif new_score <0:\n",
    "            print(\"box slots are full, discard this one bid%d\"%bid)\n",
    "            return\n",
    "        else:    \n",
    "            print(\"conflict 2\", boxs)\n",
    "            revised_info = list(p_info)\n",
    "            revised_info[cid] = -1    \n",
    "            revised_info = tuple(revised_info)\n",
    "            revised_cid = np.argmax(revised_info)\n",
    "            print(\"revised\", revised_cid, bid, revised_info)\n",
    "            return insert_box_info(boxs, revised_cid,bid, revised_info)      "
   ]
  },
  {
   "cell_type": "code",
   "execution_count": 80,
   "metadata": {},
   "outputs": [],
   "source": [
    "def fprint(fw, ostr):\n",
    "    print(ostr)"
   ]
  },
  {
   "cell_type": "code",
   "execution_count": 81,
   "metadata": {},
   "outputs": [],
   "source": [
    "def insert_box_info(boxs, boxs_xy, cid, bid, p_info, fw=None):\n",
    "    new_score = p_info[cid]\n",
    "    if boxs[cid][0] == 0: #no stroed score\n",
    "        boxs[cid][0] = new_score\n",
    "        boxs[cid].append([bid, p_info])\n",
    "        if boxs_xy[bid]['cid']!= cid:\n",
    "            print('ERROR! %d-%d-%d'%(bid, cid, boxs_xy[bid]['cid']))\n",
    "        fprint(fw,\"[A] Insert new info wo conflict\")\n",
    "        #fprint(fw,boxs)\n",
    "        return\n",
    "    else:\n",
    "        if new_score>boxs[cid][0]: #replace boxes info\n",
    "            fprint(fw, \"[B] conflict 1\")\n",
    "            revised_info = list(boxs[cid][1][1])\n",
    "            revised_info[cid] = -1\n",
    "            revised_info = tuple(revised_info)\n",
    "            restore_bid = boxs[cid][1][0]\n",
    "            revised_cid = np.argmax(revised_info)\n",
    "            boxs_xy[restore_bid]['cid'] = revised_cid\n",
    "            boxs_xy[restore_bid]['revised'] = True\n",
    "            fprint(fw, \"unsorted %s-%s-%s\"%(revised_cid, restore_bid, revised_info))\n",
    "            boxs[cid][0] = new_score\n",
    "            boxs[cid][1][0] = bid\n",
    "            boxs[cid][1][1] = p_info\n",
    "            #print(boxs)\n",
    "            return insert_box_info(boxs,boxs_xy,revised_cid, restore_bid,revised_info, fw)\n",
    "        elif new_score <0:\n",
    "            boxs_xy[bid]['revised'] = -1 #dont draw this box\n",
    "            fprint(fw, \"[D] box slots are full, discard this one bid%d\"%bid)\n",
    "            return\n",
    "        else:    \n",
    "            fprint(fw, \"[C]conflict 2\")\n",
    "            revised_info = list(p_info)\n",
    "            revised_info[cid] = -1    \n",
    "            revised_info = tuple(revised_info)\n",
    "            revised_cid = np.argmax(revised_info)\n",
    "            boxs_xy[bid]['cid'] = revised_cid\n",
    "            boxs_xy[bid]['revised'] = True\n",
    "\n",
    "            fprint(fw, \"revised %s-%s-%s\"%(revised_cid, bid, revised_info))\n",
    "            return insert_box_info(boxs, boxs_xy,revised_cid,bid, revised_info, fw)      \n"
   ]
  },
  {
   "cell_type": "code",
   "execution_count": 101,
   "metadata": {},
   "outputs": [
    {
     "name": "stdout",
     "output_type": "stream",
     "text": [
      "[A] Insert new info wo conflict\n"
     ]
    }
   ],
   "source": [
    "box_info2 = {0:[0], 1:[0],2:[0],3:[0],4:[0]}\n",
    "box_xy = {0:{'cid':0, 'revised':0}, 11:{'cid':0, 'revised':0},12:{'cid':0, 'revised':0},13:{'cid':0, 'revised':0},14:{'cid':0, 'revised':0}}\n",
    "insert_box_info(box_info2,box_xy, 0, 0,(9,8,7,6))"
   ]
  },
  {
   "cell_type": "code",
   "execution_count": 102,
   "metadata": {},
   "outputs": [
    {
     "name": "stdout",
     "output_type": "stream",
     "text": [
      "ERROR! 11-1-0\n",
      "[A] Insert new info wo conflict\n"
     ]
    }
   ],
   "source": [
    "insert_box_info(box_info2, box_xy,1, 11,(4,7,5,6))"
   ]
  },
  {
   "cell_type": "code",
   "execution_count": 103,
   "metadata": {},
   "outputs": [
    {
     "name": "stdout",
     "output_type": "stream",
     "text": [
      "ERROR! 12-2-0\n",
      "[A] Insert new info wo conflict\n"
     ]
    }
   ],
   "source": [
    "insert_box_info(box_info2, box_xy, 2, 12,(0,1,9,6))"
   ]
  },
  {
   "cell_type": "code",
   "execution_count": 104,
   "metadata": {},
   "outputs": [
    {
     "name": "stdout",
     "output_type": "stream",
     "text": [
      "[B] conflict 1\n",
      "unsorted 3-11-(4, -1, 5, 6)\n",
      "[A] Insert new info wo conflict\n"
     ]
    }
   ],
   "source": [
    "insert_box_info(box_info2, box_xy, 1, 13,(3,9,5,2))"
   ]
  },
  {
   "cell_type": "code",
   "execution_count": 105,
   "metadata": {},
   "outputs": [
    {
     "name": "stdout",
     "output_type": "stream",
     "text": [
      "[C]conflict 2\n",
      "revised 2-14-(3, -1, 5, 2)\n",
      "[C]conflict 2\n",
      "revised 0-14-(3, -1, -1, 2)\n",
      "[C]conflict 2\n",
      "revised 3-14-(-1, -1, -1, 2)\n",
      "[C]conflict 2\n",
      "revised 0-14-(-1, -1, -1, -1)\n",
      "[D] box slots are full, discard this one bid14\n"
     ]
    }
   ],
   "source": [
    "insert_box_info(box_info2, box_xy, 1, 14,(3,9,5,2))"
   ]
  },
  {
   "cell_type": "code",
   "execution_count": 106,
   "metadata": {},
   "outputs": [
    {
     "data": {
      "text/plain": [
       "{0: [9, [0, (9, 8, 7, 6)]],\n",
       " 1: [9, [13, (3, 9, 5, 2)]],\n",
       " 2: [9, [12, (0, 1, 9, 6)]],\n",
       " 3: [6, [11, (4, -1, 5, 6)]],\n",
       " 4: [0]}"
      ]
     },
     "execution_count": 106,
     "metadata": {},
     "output_type": "execute_result"
    }
   ],
   "source": [
    "box_info2"
   ]
  },
  {
   "cell_type": "code",
   "execution_count": 107,
   "metadata": {},
   "outputs": [
    {
     "data": {
      "text/plain": [
       "{0: {'cid': 0, 'revised': 0},\n",
       " 11: {'cid': 3, 'revised': True},\n",
       " 12: {'cid': 0, 'revised': 0},\n",
       " 13: {'cid': 0, 'revised': 0},\n",
       " 14: {'cid': 0, 'revised': -1}}"
      ]
     },
     "execution_count": 107,
     "metadata": {},
     "output_type": "execute_result"
    }
   ],
   "source": [
    "box_xy"
   ]
  },
  {
   "cell_type": "code",
   "execution_count": 31,
   "metadata": {},
   "outputs": [
    {
     "name": "stdout",
     "output_type": "stream",
     "text": [
      "Insert new info wo conflict\n",
      "{0: [9, [1, (9, 8, 7, 6)]], 1: [0], 2: [0], 3: [0], 4: [0]}\n"
     ]
    }
   ],
   "source": [
    "insert_box_info(box_info, 0, 1,(9,8,7,6))"
   ]
  },
  {
   "cell_type": "code",
   "execution_count": 32,
   "metadata": {},
   "outputs": [
    {
     "name": "stdout",
     "output_type": "stream",
     "text": [
      "conflict 2 {0: [9, [1, (9, 8, 7, 6)]], 1: [0], 2: [0], 3: [0], 4: [0]}\n",
      "revised 2 11 (-1, 1, 7, 6)\n",
      "Insert new info wo conflict\n",
      "{0: [9, [1, (9, 8, 7, 6)]], 1: [0], 2: [7, [11, (-1, 1, 7, 6)]], 3: [0], 4: [0]}\n"
     ]
    }
   ],
   "source": [
    "insert_box_info(box_info, 0, 11,(9,1,7,6))"
   ]
  },
  {
   "cell_type": "code",
   "execution_count": 33,
   "metadata": {},
   "outputs": [
    {
     "name": "stdout",
     "output_type": "stream",
     "text": [
      "conflict 1 {0: [9, [1, (9, 8, 7, 6)]], 1: [0], 2: [7, [11, (-1, 1, 7, 6)]], 3: [0], 4: [0]}\n",
      "unsorted  3 11 (-1, 1, -1, 6)\n",
      "{0: [9, [1, (9, 8, 7, 6)]], 1: [0], 2: [8, [12, (1, 3, 8, 2)]], 3: [0], 4: [0]}\n",
      "Insert new info wo conflict\n",
      "{0: [9, [1, (9, 8, 7, 6)]], 1: [0], 2: [8, [12, (1, 3, 8, 2)]], 3: [6, [11, (-1, 1, -1, 6)]], 4: [0]}\n"
     ]
    }
   ],
   "source": [
    "insert_box_info(box_info, 2, 12,(1,3,8,2))"
   ]
  },
  {
   "cell_type": "code",
   "execution_count": 35,
   "metadata": {},
   "outputs": [
    {
     "name": "stdout",
     "output_type": "stream",
     "text": [
      "conflict 1 {0: [9, [1, (9, 8, 7, 6)]], 1: [0], 2: [8, [12, (1, 3, 8, 2)]], 3: [6, [11, (-1, 1, -1, 6)]], 4: [0]}\n",
      "unsorted  1 11 (-1, 1, -1, -1)\n",
      "{0: [9, [1, (9, 8, 7, 6)]], 1: [0], 2: [8, [12, (1, 3, 8, 2)]], 3: [9, [13, (3, 1, 2, 9)]], 4: [0]}\n",
      "Insert new info wo conflict\n",
      "{0: [9, [1, (9, 8, 7, 6)]], 1: [1, [11, (-1, 1, -1, -1)]], 2: [8, [12, (1, 3, 8, 2)]], 3: [9, [13, (3, 1, 2, 9)]], 4: [0]}\n"
     ]
    }
   ],
   "source": [
    "insert_box_info(box_info, 3, 13,(3,1,2,9))"
   ]
  },
  {
   "cell_type": "code",
   "execution_count": 44,
   "metadata": {},
   "outputs": [
    {
     "name": "stdout",
     "output_type": "stream",
     "text": [
      "conflict 2 {0: [9, [1, (9, 8, 7, 6)]], 1: [1, [11, (-1, 1, -1, -1)]], 2: [8, [12, (1, 3, 8, 2)]], 3: [9, [13, (3, 1, 2, 9)]], 4: [0]}\n",
      "revised 2 15 (-1, 0, 7, 7)\n",
      "conflict 2 {0: [9, [1, (9, 8, 7, 6)]], 1: [1, [11, (-1, 1, -1, -1)]], 2: [8, [12, (1, 3, 8, 2)]], 3: [9, [13, (3, 1, 2, 9)]], 4: [0]}\n",
      "revised 3 15 (-1, 0, -1, 7)\n",
      "conflict 2 {0: [9, [1, (9, 8, 7, 6)]], 1: [1, [11, (-1, 1, -1, -1)]], 2: [8, [12, (1, 3, 8, 2)]], 3: [9, [13, (3, 1, 2, 9)]], 4: [0]}\n",
      "revised 1 15 (-1, 0, -1, -1)\n",
      "conflict 2 {0: [9, [1, (9, 8, 7, 6)]], 1: [1, [11, (-1, 1, -1, -1)]], 2: [8, [12, (1, 3, 8, 2)]], 3: [9, [13, (3, 1, 2, 9)]], 4: [0]}\n",
      "revised 0 15 (-1, -1, -1, -1)\n",
      "box slots are full, discard this one bid15\n"
     ]
    }
   ],
   "source": [
    "insert_box_info(box_info, 0, 15,(7,0,7,7))"
   ]
  },
  {
   "cell_type": "code",
   "execution_count": 36,
   "metadata": {},
   "outputs": [
    {
     "data": {
      "text/plain": [
       "{0: [9, [1, (9, 8, 7, 6)]],\n",
       " 1: [1, [11, (-1, 1, -1, -1)]],\n",
       " 2: [8, [12, (1, 3, 8, 2)]],\n",
       " 3: [9, [13, (3, 1, 2, 9)]],\n",
       " 4: [0]}"
      ]
     },
     "execution_count": 36,
     "metadata": {},
     "output_type": "execute_result"
    }
   ],
   "source": [
    "box_info"
   ]
  },
  {
   "cell_type": "code",
   "execution_count": 42,
   "metadata": {},
   "outputs": [
    {
     "data": {
      "text/plain": [
       "{0: [9, [1, (9, 8, 7, 6)]],\n",
       " 1: [1, [11, (-1, 1, -1, -1)]],\n",
       " 2: [8, [12, (1, 3, 8, 2)]],\n",
       " 3: [9, [13, (3, 1, 2, 9)]],\n",
       " 4: [0]}"
      ]
     },
     "execution_count": 42,
     "metadata": {},
     "output_type": "execute_result"
    }
   ],
   "source": [
    "box_info"
   ]
  },
  {
   "cell_type": "code",
   "execution_count": null,
   "metadata": {},
   "outputs": [],
   "source": []
  }
 ],
 "metadata": {
  "kernelspec": {
   "display_name": "Python 3",
   "language": "python",
   "name": "python3"
  },
  "language_info": {
   "codemirror_mode": {
    "name": "ipython",
    "version": 3
   },
   "file_extension": ".py",
   "mimetype": "text/x-python",
   "name": "python",
   "nbconvert_exporter": "python",
   "pygments_lexer": "ipython3",
   "version": "3.7.1"
  }
 },
 "nbformat": 4,
 "nbformat_minor": 2
}
