{
 "cells": [
  {
   "cell_type": "markdown",
   "metadata": {
    "colab_type": "text",
    "id": "RK255E7YoEIt"
   },
   "source": [
    "# Using DeepLabCut Toolbox under Python Package\n",
    "\n",
    "安裝: `!pip install deeplabcut`\n",
    "\n",
    "主要參考此篇說明: [Using DeepLabCut for 3D markerless pose estimation across species and behaviors](https://www.biorxiv.org/content/10.1101/476531v1)"
   ]
  },
  {
   "cell_type": "code",
   "execution_count": 1,
   "metadata": {
    "colab": {},
    "colab_type": "code",
    "id": "jqLZhp7EoEI0"
   },
   "outputs": [
    {
     "name": "stdout",
     "output_type": "stream",
     "text": [
      "env: DLClight=True\n"
     ]
    },
    {
     "name": "stderr",
     "output_type": "stream",
     "text": [
      "/opt/conda/lib/python3.6/site-packages/h5py/__init__.py:36: FutureWarning: Conversion of the second argument of issubdtype from `float` to `np.floating` is deprecated. In future, it will be treated as `np.float64 == np.dtype(float).type`.\n",
      "  from ._conv import register_converters as _register_converters\n"
     ]
    },
    {
     "name": "stdout",
     "output_type": "stream",
     "text": [
      "DLC loaded in light mode; you cannot use the labeling GUI!\n",
      "DLC loaded in light mode; you cannot use the relabeling GUI!\n"
     ]
    }
   ],
   "source": [
    "\"\"\"\n",
    "由於 hub 環境不支援 GUI，參考說明文件 P.7 設定環境變數。\n",
    "\n",
    "  * 需要先在支援 GUI 環境完成 labelled data\n",
    "\n",
    "\"\"\"\n",
    "%env DLClight True\n",
    "import os\n",
    "from pathlib import Path\n",
    "import deeplabcut"
   ]
  },
  {
   "cell_type": "markdown",
   "metadata": {
    "colab_type": "text",
    "id": "9Uoz9mdPoEIy"
   },
   "source": [
    "## 建立新專案或是使用現有專案設定\n",
    "\n",
    "新專案會建好專案使用的目錄:\n",
    "  - dlc-models: 存放 train/test feature detection 的設定檔及 train 過的 model\n",
    "  - labeled-data: 透過 **label_frames** 的資料存放處\n",
    "  - training-datasets\n",
    "  - videos: 專案使用的 videos\n",
    "  \n",
    "需要自行修改專案目錄下的 config.yaml:\n",
    "  - bodyparts: 要 track 的目標點\n",
    "  - numframes2pick: 要用多少 frames 來 training\n",
    "  - start, stop, x1, x2, y1, y2: 裁切"
   ]
  },
  {
   "cell_type": "code",
   "execution_count": 2,
   "metadata": {
    "colab": {},
    "colab_type": "code",
    "id": "c9DjG55FoEI7"
   },
   "outputs": [],
   "source": [
    "task='BeetleTracking' # experiment Task\n",
    "experimenter='Lindo' # experimenter\n",
    "# Enter the paths of your videos you want to grab frames from.\n",
    "video=['../datasets/beetle-tracking/Detection_data/2016-10-14_x264.avi'] \n",
    "\n",
    "''' 建立新專案 '''\n",
    "#path_config_file = deeplabcut.create_new_project(task, experimenter, video, working_directory='',copy_videos=True)\n",
    "''' 使用舊的專案 '''\n",
    "path_config_file = os.path.join(os.getcwd(),'BeetleTracking-Lindo-2019-03-26/config.yaml')"
   ]
  },
  {
   "cell_type": "markdown",
   "metadata": {
    "colab_type": "text",
    "id": "0yXW0bx1oEJA"
   },
   "source": [
    "## 從影片截取 frames\n",
    "好的 datasets 要涵蓋所有 postures 的變化以及亮度變化等，根據原論文的測試，建議數量在 100-200 frames 較佳"
   ]
  },
  {
   "cell_type": "code",
   "execution_count": 3,
   "metadata": {
    "colab": {},
    "colab_type": "code",
    "id": "t1ulumCuoEJC"
   },
   "outputs": [
    {
     "name": "stderr",
     "output_type": "stream",
     "text": [
      "/home/jovyan/.local/lib/python3.6/site-packages/deeplabcut/generate_training_dataset/frame_extraction.py:100: YAMLLoadWarning: calling yaml.load() without Loader=... is deprecated, as the default Loader is unsafe. Please read https://msg.pyyaml.org/load for full details.\n",
      "  cfg = yaml.load(ymlfile)\n"
     ]
    },
    {
     "name": "stdout",
     "output_type": "stream",
     "text": [
      "Config file read successfully.\n",
      "Do you want to extract (perhaps additional) frames for video: /home/jovyan/jt072-09-biodiv-beetle/DeepLabCut/examples/BeetleTracking-Lindo-2019-03-26/videos/2016-10-14_x264.avi ?\n"
     ]
    },
    {
     "name": "stdin",
     "output_type": "stream",
     "text": [
      "yes/no yes\n"
     ]
    },
    {
     "ename": "ZeroDivisionError",
     "evalue": "float division by zero",
     "output_type": "error",
     "traceback": [
      "\u001b[0;31m---------------------------------------------------------------------------\u001b[0m",
      "\u001b[0;31mZeroDivisionError\u001b[0m                         Traceback (most recent call last)",
      "\u001b[0;32m<ipython-input-3-517d3a8a9528>\u001b[0m in \u001b[0;36m<module>\u001b[0;34m()\u001b[0m\n\u001b[1;32m      2\u001b[0m \u001b[0;34m\u001b[0m\u001b[0m\n\u001b[1;32m      3\u001b[0m \u001b[0;34m''' 演算法可以用 'uniform' 或是 'kmeans' '''\u001b[0m\u001b[0;34m\u001b[0m\u001b[0m\n\u001b[0;32m----> 4\u001b[0;31m \u001b[0mdeeplabcut\u001b[0m\u001b[0;34m.\u001b[0m\u001b[0mextract_frames\u001b[0m\u001b[0;34m(\u001b[0m\u001b[0mpath_config_file\u001b[0m\u001b[0;34m,\u001b[0m\u001b[0;34m'automatic'\u001b[0m\u001b[0;34m,\u001b[0m\u001b[0;34m'uniform'\u001b[0m\u001b[0;34m,\u001b[0m \u001b[0mcrop\u001b[0m\u001b[0;34m=\u001b[0m\u001b[0;32mFalse\u001b[0m\u001b[0;34m)\u001b[0m\u001b[0;34m\u001b[0m\u001b[0m\n\u001b[0m",
      "\u001b[0;32m/home/jovyan/.local/lib/python3.6/site-packages/deeplabcut/generate_training_dataset/frame_extraction.py\u001b[0m in \u001b[0;36mextract_frames\u001b[0;34m(config, mode, algo, crop, userfeedback, cluster_step, cluster_resizewidth, cluster_color, opencv)\u001b[0m\n\u001b[1;32m    133\u001b[0m                     \u001b[0mfps\u001b[0m \u001b[0;34m=\u001b[0m \u001b[0mcap\u001b[0m\u001b[0;34m.\u001b[0m\u001b[0mget\u001b[0m\u001b[0;34m(\u001b[0m\u001b[0;36m5\u001b[0m\u001b[0;34m)\u001b[0m \u001b[0;31m#https://docs.opencv.org/2.4/modules/highgui/doc/reading_and_writing_images_and_video.html#videocapture-get\u001b[0m\u001b[0;34m\u001b[0m\u001b[0m\n\u001b[1;32m    134\u001b[0m                     \u001b[0mnframes\u001b[0m \u001b[0;34m=\u001b[0m \u001b[0mint\u001b[0m\u001b[0;34m(\u001b[0m\u001b[0mcap\u001b[0m\u001b[0;34m.\u001b[0m\u001b[0mget\u001b[0m\u001b[0;34m(\u001b[0m\u001b[0;36m7\u001b[0m\u001b[0;34m)\u001b[0m\u001b[0;34m)\u001b[0m\u001b[0;34m\u001b[0m\u001b[0m\n\u001b[0;32m--> 135\u001b[0;31m                     \u001b[0mduration\u001b[0m\u001b[0;34m=\u001b[0m\u001b[0mnframes\u001b[0m\u001b[0;34m*\u001b[0m\u001b[0;36m1.\u001b[0m\u001b[0;34m/\u001b[0m\u001b[0mfps\u001b[0m\u001b[0;34m\u001b[0m\u001b[0m\n\u001b[0m\u001b[1;32m    136\u001b[0m                 \u001b[0;32melse\u001b[0m\u001b[0;34m:\u001b[0m\u001b[0;34m\u001b[0m\u001b[0m\n\u001b[1;32m    137\u001b[0m                     \u001b[0;31m#Moviepy:\u001b[0m\u001b[0;34m\u001b[0m\u001b[0;34m\u001b[0m\u001b[0m\n",
      "\u001b[0;31mZeroDivisionError\u001b[0m: float division by zero"
     ]
    }
   ],
   "source": [
    "%matplotlib inline\n",
    "\n",
    "''' 演算法可以用 'uniform' 或是 'kmeans' '''\n",
    "deeplabcut.extract_frames(path_config_file,'automatic','uniform', crop=False)"
   ]
  },
  {
   "cell_type": "markdown",
   "metadata": {
    "colab_type": "text",
    "id": "Gjn6ZDonoEJH"
   },
   "source": [
    "## Label frames\n",
    "這步目前是透過支援 GUI 的環境完成"
   ]
  },
  {
   "cell_type": "code",
   "execution_count": 5,
   "metadata": {
    "colab": {},
    "colab_type": "code",
    "id": "iyROSOiEoEJI"
   },
   "outputs": [],
   "source": [
    "if os.environ.get('DLClight', default=False) == 'False':\n",
    "    %gui wx\n",
    "    deeplabcut.label_frames(path_config_file)"
   ]
  },
  {
   "cell_type": "markdown",
   "metadata": {
    "colab_type": "text",
    "id": "vim95ZvkPSeN"
   },
   "source": [
    "**檢查 labels**"
   ]
  },
  {
   "cell_type": "code",
   "execution_count": 4,
   "metadata": {
    "colab": {},
    "colab_type": "code",
    "id": "NwvgPJouPP2O"
   },
   "outputs": [
    {
     "name": "stdout",
     "output_type": "stream",
     "text": [
      "Creating images with labels by Lindo.\n",
      "/home/jovyan/jt072-09-biodiv-beetle/DeepLabCut/examples/BeetleTracking-Lindo-2019-03-26/labeled-data/2016-10-14_x264_labeled  already exists!\n",
      "Attention: /home/jovyan/jt072-09-biodiv-beetle/DeepLabCut/examples/BeetleTracking-Lindo-2019-03-26/labeled-data/2016-10-14_x264 does not appear to have labeled data!\n",
      "If all the labels are ok, then use the function 'create_training_dataset' to create the training dataset!\n"
     ]
    }
   ],
   "source": [
    "''' 基本上是檢查檔案格式正確與否，以及標記的點是否在影像範圍內。 '''\n",
    "deeplabcut.check_labels(path_config_file) #this creates a subdirectory with the frames + your labels"
   ]
  },
  {
   "cell_type": "markdown",
   "metadata": {
    "colab_type": "text",
    "id": "xNi9s1dboEJN"
   },
   "source": [
    "## 建立 training dataset\n",
    "在 training 前執行。大致是將所有 labeled image 用 hd5 存放 (後續用 pandas dataframes 存取)"
   ]
  },
  {
   "cell_type": "code",
   "execution_count": 5,
   "metadata": {
    "colab": {},
    "colab_type": "code",
    "id": "eMeUwgxPoEJP",
    "scrolled": true
   },
   "outputs": [
    {
     "name": "stdout",
     "output_type": "stream",
     "text": [
      "/home/jovyan/jt072-09-biodiv-beetle/DeepLabCut/examples/BeetleTracking-Lindo-2019-03-26/training-datasets/iteration-1/UnaugmentedDataSet_BeetleTrackingMar26  already exists!\n",
      "It appears that the images were labeled on a Windows system, but you are currently trying to create a training set on a Unix system. \n",
      " In this case the paths should be converted. Do you want to proceed with the conversion?\n"
     ]
    },
    {
     "name": "stdin",
     "output_type": "stream",
     "text": [
      "yes/no yes\n"
     ]
    },
    {
     "name": "stdout",
     "output_type": "stream",
     "text": [
      "Annotation data converted to unix format...\n",
      "/home/jovyan/Project_JT072_09_Biodiv-Beetle/DeepLabCut/ByPackage/BeetleTracking-Lindo-2019-03-26/dlc-models/iteration-1/BeetleTrackingMar26-trainset95shuffle1  already exists!\n",
      "/home/jovyan/Project_JT072_09_Biodiv-Beetle/DeepLabCut/ByPackage/BeetleTracking-Lindo-2019-03-26/dlc-models/iteration-1/BeetleTrackingMar26-trainset95shuffle1//train  already exists!\n",
      "/home/jovyan/Project_JT072_09_Biodiv-Beetle/DeepLabCut/ByPackage/BeetleTracking-Lindo-2019-03-26/dlc-models/iteration-1/BeetleTrackingMar26-trainset95shuffle1//test  already exists!\n",
      "The training dataset is successfully created. Use the function 'train_network' to start training. Happy training!\n"
     ]
    },
    {
     "name": "stderr",
     "output_type": "stream",
     "text": [
      "/home/jovyan/.local/lib/python3.6/site-packages/deeplabcut/generate_training_dataset/trainingsetmanipulation.py:328: YAMLLoadWarning: calling yaml.load() without Loader=... is deprecated, as the default Loader is unsafe. Please read https://msg.pyyaml.org/load for full details.\n",
      "  docs.append(yaml.load(raw_doc))\n"
     ]
    }
   ],
   "source": [
    "deeplabcut.create_training_dataset(path_config_file)"
   ]
  },
  {
   "cell_type": "markdown",
   "metadata": {
    "colab_type": "text",
    "id": "c4FczXGDoEJU"
   },
   "source": [
    "## 開始 training\n",
    "hub環境，基本上跑完 103000 個 iterations 需時約 28 hr"
   ]
  },
  {
   "cell_type": "code",
   "execution_count": null,
   "metadata": {
    "colab": {},
    "colab_type": "code",
    "id": "_pOvDq_2oEJW"
   },
   "outputs": [],
   "source": [
    "deeplabcut.train_network(path_config_file, shuffle=1, displayiters=1000, saveiters=1000)"
   ]
  },
  {
   "cell_type": "markdown",
   "metadata": {
    "colab_type": "text",
    "id": "xZygsb2DoEJc"
   },
   "source": [
    "## 開始 evaluating\n",
    "評估 training 結果，在 config 檔內可設定 p-cutoff 值；結果會存放在 **evaluation-results** 目錄"
   ]
  },
  {
   "cell_type": "code",
   "execution_count": 6,
   "metadata": {
    "colab": {},
    "colab_type": "code",
    "id": "nv4zlbrnoEJg"
   },
   "outputs": [
    {
     "name": "stdout",
     "output_type": "stream",
     "text": [
      "/home/jovyan/jt072-09-biodiv-beetle/DeepLabCut/examples/BeetleTracking-Lindo-2019-03-26/evaluation-results/  already exists!\n",
      "/home/jovyan/jt072-09-biodiv-beetle/DeepLabCut/examples/BeetleTracking-Lindo-2019-03-26/evaluation-results/iteration-1/BeetleTrackingMar26-trainset95shuffle1  already exists!\n",
      "Running  DeepCut_resnet50_BeetleTrackingMar26shuffle1_1030000  with # of trainingiterations: 1030000\n",
      "This net has already been evaluated!\n",
      "The network is evaluated and the results are stored in the subdirectory 'evaluation_results'.\n",
      "If it generalizes well, choose the best model for prediction and update the config file with the appropriate index for the 'snapshotindex'.\n",
      "Use the function 'analyze_video' to make predictions on new videos.\n",
      "Otherwise consider retraining the network (see DeepLabCut workflow Fig 2)\n"
     ]
    },
    {
     "name": "stderr",
     "output_type": "stream",
     "text": [
      "/home/jovyan/.local/lib/python3.6/site-packages/deeplabcut/pose_estimation_tensorflow/config.py:43: YAMLLoadWarning: calling yaml.load() without Loader=... is deprecated, as the default Loader is unsafe. Please read https://msg.pyyaml.org/load for full details.\n",
      "  yaml_cfg = edict(yaml.load(f))\n"
     ]
    }
   ],
   "source": [
    "''' funcation 內會選取最大的 iterations 來做評估 '''\n",
    "deeplabcut.evaluate_network(path_config_file)"
   ]
  },
  {
   "cell_type": "markdown",
   "metadata": {
    "colab_type": "text",
    "id": "OVFLSKKfoEJk"
   },
   "source": [
    "## 分析目標 video\n",
    "等於做 prediction，結果會存成 hd5 檔。"
   ]
  },
  {
   "cell_type": "code",
   "execution_count": 7,
   "metadata": {
    "colab": {},
    "colab_type": "code",
    "id": "Y_LZiS_0oEJl"
   },
   "outputs": [
    {
     "name": "stderr",
     "output_type": "stream",
     "text": [
      "/home/jovyan/.local/lib/python3.6/site-packages/deeplabcut/pose_estimation_tensorflow/config.py:43: YAMLLoadWarning: calling yaml.load() without Loader=... is deprecated, as the default Loader is unsafe. Please read https://msg.pyyaml.org/load for full details.\n",
      "  yaml_cfg = edict(yaml.load(f))\n"
     ]
    },
    {
     "name": "stdout",
     "output_type": "stream",
     "text": [
      "Using snapshot-1030000 for model /home/jovyan/jt072-09-biodiv-beetle/DeepLabCut/examples/BeetleTracking-Lindo-2019-03-26/dlc-models/iteration-1/BeetleTrackingMar26-trainset95shuffle1\n",
      "INFO:tensorflow:Restoring parameters from /home/jovyan/jt072-09-biodiv-beetle/DeepLabCut/examples/BeetleTracking-Lindo-2019-03-26/dlc-models/iteration-1/BeetleTrackingMar26-trainset95shuffle1/train/snapshot-1030000\n"
     ]
    },
    {
     "name": "stderr",
     "output_type": "stream",
     "text": [
      "INFO:tensorflow:Restoring parameters from /home/jovyan/jt072-09-biodiv-beetle/DeepLabCut/examples/BeetleTracking-Lindo-2019-03-26/dlc-models/iteration-1/BeetleTrackingMar26-trainset95shuffle1/train/snapshot-1030000\n",
      "  0%|          | 0/1000 [00:00<?, ?it/s]"
     ]
    },
    {
     "name": "stdout",
     "output_type": "stream",
     "text": [
      "Starting to analyze %  /home/jovyan/Project_JT072_09_Biodiv-Beetle/DeepLabCut/ByPackage/BeetleTracking-Lindo-2019-03-26/videos/[CH01]2016-10-1419.20.00_x264_m_04.avi\n",
      "Loading  /home/jovyan/Project_JT072_09_Biodiv-Beetle/DeepLabCut/ByPackage/BeetleTracking-Lindo-2019-03-26/videos/[CH01]2016-10-1419.20.00_x264_m_04.avi\n",
      "Duration of video [s]:  66.67 , recorded with  15.0 fps!\n",
      "Overall # of frames:  1000  found with (before cropping) frame dimensions:  1280 720\n",
      "Starting to extract posture\n"
     ]
    },
    {
     "name": "stderr",
     "output_type": "stream",
     "text": [
      "1010it [00:51, 19.21it/s]                          "
     ]
    },
    {
     "name": "stdout",
     "output_type": "stream",
     "text": [
      "Detected frames:  1000\n",
      "Saving results in /home/jovyan/Project_JT072_09_Biodiv-Beetle/DeepLabCut/ByPackage/BeetleTracking-Lindo-2019-03-26/videos...\n",
      "Saving csv poses!\n",
      "The videos are analyzed. Now your research can truly start! \n",
      " You can create labeled videos with 'create_labeled_video'.\n",
      "If the tracking is not satisfactory for some videos, consider expanding the training set. You can use the function 'extract_outlier_frames' to extract any outlier frames!\n"
     ]
    },
    {
     "name": "stderr",
     "output_type": "stream",
     "text": [
      "\n"
     ]
    }
   ],
   "source": [
    "''' 為了方便自己閱讀，加上 save_as_csv=True 存一份 csv '''\n",
    "videofile_path = os.path.join(os.getcwd(),'BeetleTracking-Lindo-2019-03-26/videos/[CH01]2016-10-1419.20.00_x264_m_04.avi')\n",
    "deeplabcut.analyze_videos(path_config_file, [videofile_path],save_as_csv=True)"
   ]
  },
  {
   "cell_type": "markdown",
   "metadata": {
    "colab_type": "text",
    "id": "pCrUvQIvoEKD"
   },
   "source": [
    "## 建立 labeled video"
   ]
  },
  {
   "cell_type": "code",
   "execution_count": 14,
   "metadata": {
    "colab": {},
    "colab_type": "code",
    "id": "6aDF7Q7KoEKE"
   },
   "outputs": [],
   "source": [
    "deeplabcut.create_labeled_video(path_config_file,[videofile_path])"
   ]
  }
 ],
 "metadata": {
  "accelerator": "GPU",
  "colab": {
   "name": "Demo-yourowndata.ipynb",
   "provenance": [],
   "version": "0.3.2"
  },
  "kernelspec": {
   "display_name": "Python 3",
   "language": "python",
   "name": "python3"
  },
  "language_info": {
   "codemirror_mode": {
    "name": "ipython",
    "version": 3
   },
   "file_extension": ".py",
   "mimetype": "text/x-python",
   "name": "python",
   "nbconvert_exporter": "python",
   "pygments_lexer": "ipython3",
   "version": "3.6.6"
  },
  "varInspector": {
   "cols": {
    "lenName": 16,
    "lenType": 16,
    "lenVar": 40
   },
   "kernels_config": {
    "python": {
     "delete_cmd_postfix": "",
     "delete_cmd_prefix": "del ",
     "library": "var_list.py",
     "varRefreshCmd": "print(var_dic_list())"
    },
    "r": {
     "delete_cmd_postfix": ") ",
     "delete_cmd_prefix": "rm(",
     "library": "var_list.r",
     "varRefreshCmd": "cat(var_dic_list()) "
    }
   },
   "types_to_exclude": [
    "module",
    "function",
    "builtin_function_or_method",
    "instance",
    "_Feature"
   ],
   "window_display": false
  }
 },
 "nbformat": 4,
 "nbformat_minor": 2
}
