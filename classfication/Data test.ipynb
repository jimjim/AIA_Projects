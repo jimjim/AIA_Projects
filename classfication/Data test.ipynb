{
 "cells": [
  {
   "cell_type": "code",
   "execution_count": null,
   "metadata": {},
   "outputs": [
    {
     "name": "stderr",
     "output_type": "stream",
     "text": [
      "/opt/conda/lib/python3.6/site-packages/h5py/__init__.py:36: FutureWarning: Conversion of the second argument of issubdtype from `float` to `np.floating` is deprecated. In future, it will be treated as `np.float64 == np.dtype(float).type`.\n",
      "  from ._conv import register_converters as _register_converters\n"
     ]
    }
   ],
   "source": [
    "from tensorflow.python.keras.models import load_model\n",
    "from tensorflow.python.keras.preprocessing import image\n",
    "import numpy as np\n",
    "import os\n",
    "net = load_model('model-resnet50-final.h5')"
   ]
  },
  {
   "cell_type": "code",
   "execution_count": null,
   "metadata": {},
   "outputs": [],
   "source": []
  },
  {
   "cell_type": "code",
   "execution_count": null,
   "metadata": {},
   "outputs": [],
   "source": [
    "train_dir = 'test/'\n",
    "dirs = os.listdir(train_dir)\n",
    "   \n",
    "for i_dir in range(len(dirs)):\n",
    "    errorCnt=0\n",
    "    dir_name = dirs[i_dir]\n",
    "         \n",
    "    files = os.listdir(train_dir + dir_name)\n",
    "    cnt_train = len(files)\n",
    "    #print(cnt_train)\n",
    "    print(dir_name, ':', cnt_train)\n",
    "    for i_file in range(cnt_train):\n",
    "        if files[i_file].endswith(\".jpg\"):  \n",
    "            img = image.load_img (train_dir + dir_name + '/' + files[i_file],target_size=(224,224))\n",
    "            #print(train_dir + dir_name + '/' +files[i_file])\n",
    "            #continue\n",
    "            if dir_name =='.ipynb_checkpoints':\n",
    "                continue     \n",
    "            x = image.img_to_array(img)\n",
    "            x = np.expand_dims(x, axis = 0)\n",
    "            pred = net.predict(x)[0]\n",
    "            pred_y = np.argmax(pred)\n",
    "            if pred_y!=int(dir_name):\n",
    "                print(dir_name, ':',pred_y,':',files[i_file])\n",
    "                errorCnt=errorCnt+1\n",
    "                #continue   \n",
    "            #else:\n",
    "    print(dir_name, ' error cnt=',errorCnt)\n",
    "                "
   ]
  },
  {
   "cell_type": "code",
   "execution_count": null,
   "metadata": {},
   "outputs": [],
   "source": []
  }
 ],
 "metadata": {
  "kernelspec": {
   "display_name": "Python 3",
   "language": "python",
   "name": "python3"
  },
  "language_info": {
   "codemirror_mode": {
    "name": "ipython",
    "version": 3
   },
   "file_extension": ".py",
   "mimetype": "text/x-python",
   "name": "python",
   "nbconvert_exporter": "python",
   "pygments_lexer": "ipython3",
   "version": "3.6.6"
  }
 },
 "nbformat": 4,
 "nbformat_minor": 2
}
