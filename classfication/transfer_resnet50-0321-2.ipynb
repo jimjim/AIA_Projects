{
 "cells": [
  {
   "cell_type": "code",
   "execution_count": 1,
   "metadata": {},
   "outputs": [
    {
     "name": "stderr",
     "output_type": "stream",
     "text": [
      "/opt/conda/lib/python3.6/site-packages/h5py/__init__.py:36: FutureWarning: Conversion of the second argument of issubdtype from `float` to `np.floating` is deprecated. In future, it will be treated as `np.float64 == np.dtype(float).type`.\n",
      "  from ._conv import register_converters as _register_converters\n",
      "Using TensorFlow backend.\n"
     ]
    }
   ],
   "source": [
    "import numpy as np\n",
    "import os\n",
    "from random import shuffle\n",
    "import matplotlib.pyplot as plt\n",
    "import pandas as pd\n",
    "import keras"
   ]
  },
  {
   "cell_type": "code",
   "execution_count": 3,
   "metadata": {},
   "outputs": [],
   "source": [
    "def data2df(dir_path):\n",
    "    data = list()\n",
    "    for (root, _, files) in walk(dir_path):\n",
    "        if '.ipynb_checkpoints' in root:\n",
    "            continue\n",
    "        for f in files:\n",
    "            filepath = join(root, f)\n",
    "            dirname = root.split('/')[-1] # 取得目錄用於 class name\n",
    "            data.append([dirname, filepath])\n",
    "    \n",
    "    return pd.DataFrame(data, columns=['classname', 'filepath'])"
   ]
  },
  {
   "cell_type": "code",
   "execution_count": 4,
   "metadata": {},
   "outputs": [
    {
     "data": {
      "text/html": [
       "<div>\n",
       "<style scoped>\n",
       "    .dataframe tbody tr th:only-of-type {\n",
       "        vertical-align: middle;\n",
       "    }\n",
       "\n",
       "    .dataframe tbody tr th {\n",
       "        vertical-align: top;\n",
       "    }\n",
       "\n",
       "    .dataframe thead th {\n",
       "        text-align: right;\n",
       "    }\n",
       "</style>\n",
       "<table border=\"1\" class=\"dataframe\">\n",
       "  <thead>\n",
       "    <tr style=\"text-align: right;\">\n",
       "      <th></th>\n",
       "      <th>groups</th>\n",
       "      <th>num</th>\n",
       "    </tr>\n",
       "  </thead>\n",
       "  <tbody>\n",
       "    <tr>\n",
       "      <th>0</th>\n",
       "      <td>1</td>\n",
       "      <td>0</td>\n",
       "    </tr>\n",
       "    <tr>\n",
       "      <th>1</th>\n",
       "      <td>2</td>\n",
       "      <td>1</td>\n",
       "    </tr>\n",
       "    <tr>\n",
       "      <th>2</th>\n",
       "      <td>3</td>\n",
       "      <td>2</td>\n",
       "    </tr>\n",
       "    <tr>\n",
       "      <th>3</th>\n",
       "      <td>4</td>\n",
       "      <td>3</td>\n",
       "    </tr>\n",
       "  </tbody>\n",
       "</table>\n",
       "</div>"
      ],
      "text/plain": [
       "  groups num\n",
       "0      1   0\n",
       "1      2   1\n",
       "2      3   2\n",
       "3      4   3"
      ]
     },
     "execution_count": 4,
     "metadata": {},
     "output_type": "execute_result"
    }
   ],
   "source": [
    "\n",
    "groups = [\"1\", \"2\", \"3\", \"4\"]  \n",
    "num = [\"0\",\"1\", \"2\", \"3\"]\n",
    "\n",
    "dict = {\"groups\": groups,  \n",
    "        \"num\": num\n",
    "       }\n",
    "\n",
    "select_df = pd.DataFrame(dict)\n",
    "\n",
    "classmap= pd.DataFrame(dict)\n",
    "classmap"
   ]
  },
  {
   "cell_type": "code",
   "execution_count": 5,
   "metadata": {},
   "outputs": [
    {
     "data": {
      "text/plain": [
       "'2'"
      ]
     },
     "execution_count": 5,
     "metadata": {},
     "output_type": "execute_result"
    }
   ],
   "source": [
    "classmap.loc[2][1]"
   ]
  },
  {
   "cell_type": "code",
   "execution_count": 6,
   "metadata": {},
   "outputs": [],
   "source": [
    "num_classes = 4 #all 4 type dogs\n",
    "img_size = 200 #set image size"
   ]
  },
  {
   "cell_type": "code",
   "execution_count": 7,
   "metadata": {},
   "outputs": [
    {
     "name": "stdout",
     "output_type": "stream",
     "text": [
      "0 : 15507\n",
      "1 : 23981\n",
      "2 : 22990\n",
      "3 : 11979\n",
      "(40002, 200, 200, 3)\n",
      "40002\n"
     ]
    }
   ],
   "source": [
    "from keras.preprocessing import image\n",
    "train_dir = 'train/'\n",
    "total_train_cnt = 0\n",
    "X = []\n",
    "y = []\n",
    "\n",
    "dirs = os.listdir(train_dir)\n",
    "count=0\n",
    "for i_dir in range(len(dirs)):\n",
    "#for i_dir in 1000:  \n",
    "        count=0;\n",
    "        dir_name = dirs[i_dir]\n",
    "        if dir_name =='.ipynb_checkpoints' :\n",
    "            continue\n",
    "        #if dir_name=='2' or dir_name=='3':\n",
    "        #      continue\n",
    "        files = os.listdir(train_dir + dir_name)\n",
    "        cnt_train = len(files)\n",
    "        print(dir_name, ':', cnt_train)\n",
    "    \n",
    "    \n",
    "    \n",
    "        for i_file in range(cnt_train):\n",
    "             if(count<=10000):\n",
    "                count=count+1\n",
    "         \n",
    "                if files[i_file].endswith(\".jpg\"):\n",
    "                    \n",
    "                    y.append(D.loc[int(dir_name)][1])                   \n",
    "            \n",
    "                    img = image.load_img (train_dir + dir_name + '/' + files[i_file],\n",
    "                                  target_size=(img_size,img_size))\n",
    "                    img = image.img_to_array(img)\n",
    "                    X.append(img)\n",
    "                    total_train_cnt += 1\n",
    "y = np.asarray(y)\n",
    "X = np.asarray(X)\n",
    "print(X.shape)\n",
    "print(total_train_cnt)"
   ]
  },
  {
   "cell_type": "code",
   "execution_count": 8,
   "metadata": {},
   "outputs": [
    {
     "name": "stdout",
     "output_type": "stream",
     "text": [
      "(36001, 200, 200, 3)\n",
      "(4001, 200, 200, 3)\n"
     ]
    }
   ],
   "source": [
    "from sklearn.model_selection import train_test_split\n",
    "y = keras.utils.to_categorical(y, num_classes)\n",
    "X_train, X_val, y_train, y_val = train_test_split(X, y, test_size=0.1, random_state=1)\n",
    "print(X_train.shape)\n",
    "print(X_val.shape)"
   ]
  },
  {
   "cell_type": "code",
   "execution_count": 9,
   "metadata": {},
   "outputs": [],
   "source": [
    "from tensorflow.python.keras import backend as K\n",
    "from tensorflow.python.keras.models import Model\n",
    "from tensorflow.python.keras.layers import Flatten, Dense, Dropout\n",
    "from tensorflow.python.keras.applications.resnet50 import ResNet50\n",
    "from tensorflow.python.keras.optimizers import Adam\n",
    "from tensorflow.python.keras.preprocessing.image import ImageDataGenerator\n",
    "from tensorflow.python.keras.callbacks import EarlyStopping, ModelCheckpoint, ReduceLROnPlateau\n",
    "\n",
    "\n",
    "#NUM_EPOCHS = 40\n",
    "#BATCH_SIZE = 64\n",
    "NUM_EPOCHS =40\n",
    "BATCH_SIZE = 16"
   ]
  },
  {
   "cell_type": "code",
   "execution_count": 10,
   "metadata": {},
   "outputs": [],
   "source": [
    "train_datagen = ImageDataGenerator(rotation_range=40,\n",
    "                                   width_shift_range=0.2,\n",
    "                                   height_shift_range=0.2,\n",
    "                                   shear_range=0.2,\n",
    "                                   zoom_range=0.2,\n",
    "                                   channel_shift_range=10,\n",
    "                                   horizontal_flip=True,\n",
    "                                   fill_mode='nearest')\n",
    "train_batches = train_datagen.flow(X_train, y_train,\n",
    "                                  shuffle=True,\n",
    "                                  batch_size=BATCH_SIZE)\n",
    "\n",
    "valid_datagen = ImageDataGenerator()\n",
    "valid_batches = valid_datagen.flow(X_val, y_val,\n",
    "                                  shuffle=False,\n",
    "                                  batch_size=BATCH_SIZE)"
   ]
  },
  {
   "cell_type": "code",
   "execution_count": null,
   "metadata": {},
   "outputs": [
    {
     "name": "stdout",
     "output_type": "stream",
     "text": [
      "Epoch 1/40\n",
      " 533/2250 [======>.......................] - ETA: 4:36 - loss: 1.1927 - acc: 0.4965"
     ]
    }
   ],
   "source": [
    "# 模型輸出儲存的檔案\n",
    "WEIGHTS_FINAL = 'model-resnet50-0321-2.h5'\n",
    "\n",
    "FREEZE_LAYERS = 2\n",
    "\n",
    "net = ResNet50(include_top=False, weights='imagenet', input_tensor=None,\n",
    "               input_shape=(img_size,img_size,3))\n",
    "x = net.output\n",
    "x = Flatten()(x)\n",
    "\n",
    "# 增加 DropOut layer\n",
    "x = Dropout(0.5)(x)\n",
    "#x = Dropout(0.1)(x)\n",
    "\n",
    "# 增加 Dense layer，以 softmax 產生個類別的機率值\n",
    "output_layer = Dense(num_classes, activation='softmax', name='softmax')(x)\n",
    "\n",
    "# 設定凍結與要進行訓練的網路層\n",
    "net_final = Model(inputs=net.input, outputs=output_layer)\n",
    "for layer in net_final.layers[:FREEZE_LAYERS]:\n",
    "    layer.trainable = False\n",
    "for layer in net_final.layers[FREEZE_LAYERS:]:\n",
    "    layer.trainable = True\n",
    "    \n",
    "# 使用 Adam optimizer，以較低的 learning rate 進行 fine-tuning\n",
    "net_final.compile(optimizer=Adam(lr=1e-5),\n",
    "                  loss='categorical_crossentropy', metrics=['accuracy'])\n",
    "\n",
    "# 輸出整個網路結構\n",
    " #print(net_final.summary())\n",
    "\n",
    "# earlystop\n",
    "earlystop = EarlyStopping(monitor='val_loss', patience=5, verbose=1)\n",
    "# reduce lr\n",
    "reduce_lr = ReduceLROnPlateau(monitor='val_loss', factor=0.2,\n",
    "                              patience=5, min_lr=1e-7)\n",
    "\n",
    "# 訓練模型\n",
    "model_history = net_final.fit_generator(train_batches,\n",
    "                        steps_per_epoch = X_train.shape[0] // BATCH_SIZE,\n",
    "                        validation_data = valid_batches,\n",
    "                        validation_steps = X_val.shape[0] // BATCH_SIZE,\n",
    "                        epochs = NUM_EPOCHS,\n",
    "                        callbacks=[earlystop, reduce_lr])\n",
    "\n",
    "# 儲存訓練好的模型\n",
    "net_final.save(WEIGHTS_FINAL)"
   ]
  },
  {
   "cell_type": "code",
   "execution_count": null,
   "metadata": {},
   "outputs": [],
   "source": []
  },
  {
   "cell_type": "code",
   "execution_count": null,
   "metadata": {},
   "outputs": [],
   "source": [
    "training_loss = model_history.history['loss']\n",
    "val_loss = model_history.history['val_loss']\n",
    "\n",
    "plt.plot(training_loss, label=\"training_loss\")\n",
    "plt.plot(val_loss, label=\"validation_loss\")\n",
    "plt.xlabel(\"Epochs\")\n",
    "plt.ylabel(\"Loss\")\n",
    "plt.title(\"Learning Curve\")\n",
    "plt.legend(loc='best')\n",
    "plt.show()"
   ]
  },
  {
   "cell_type": "code",
   "execution_count": null,
   "metadata": {},
   "outputs": [],
   "source": []
  }
 ],
 "metadata": {
  "kernelspec": {
   "display_name": "Python 3",
   "language": "python",
   "name": "python3"
  },
  "language_info": {
   "codemirror_mode": {
    "name": "ipython",
    "version": 3
   },
   "file_extension": ".py",
   "mimetype": "text/x-python",
   "name": "python",
   "nbconvert_exporter": "python",
   "pygments_lexer": "ipython3",
   "version": "3.6.6"
  }
 },
 "nbformat": 4,
 "nbformat_minor": 2
}
