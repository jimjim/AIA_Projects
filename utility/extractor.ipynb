{
 "cells": [
  {
   "cell_type": "code",
   "execution_count": 1,
   "metadata": {},
   "outputs": [],
   "source": [
    "import os\n",
    "import cv2\n",
    "from tqdm import tqdm"
   ]
  },
  {
   "cell_type": "code",
   "execution_count": 2,
   "metadata": {},
   "outputs": [],
   "source": [
    "dataset_path = \"./datasets/beetle-tracking/Detection_data/\""
   ]
  },
  {
   "cell_type": "code",
   "execution_count": 3,
   "metadata": {},
   "outputs": [],
   "source": [
    "##Get all .txt files\n",
    "def _get_all_txt(folder_path):\n",
    "    f = []\n",
    "    idx = 0\n",
    "    if os.path.exists(folder_path):\n",
    "        for x in os.listdir(folder_path):\n",
    "            name, ext = os.path.splitext(x)\n",
    "            if ext == '.txt':\n",
    "                #print(x)\n",
    "                f.append(os.path.join(folder_path,x))\n",
    "    else:\n",
    "        print(\"%s does not exist!\"%(folder_path))\n",
    "    \n",
    "    return f\n",
    "    \n",
    "txt_files = _get_all_txt(dataset_path)"
   ]
  },
  {
   "cell_type": "code",
   "execution_count": 4,
   "metadata": {},
   "outputs": [
    {
     "name": "stdout",
     "output_type": "stream",
     "text": [
      "./datasets/beetle-tracking/Detection_data/[CH03] 2017-08-12 21.15.00_x264_label.txt\n",
      "./datasets/beetle-tracking/Detection_data/[CH03] 2017-08-12 21.15.00_x264.avi\n",
      "300\n",
      "[CH03]2017-08-1221.15.00_x264_label\n"
     ]
    }
   ],
   "source": [
    "##Read description file and transfer the content to py dict.\n",
    "def _read_box_desc(file_name):\n",
    "    f = open(file_name,'r')\n",
    "    result = dict()\n",
    "    res = dict()\n",
    "    cnt = 0\n",
    "    result['fn'] = file_name\n",
    "    vname, _ = os.path.splitext(file_name)\n",
    "    result['name'] = os.path.split(vname)[-1]\n",
    "    result['name'] = result['name'].replace(\" \", \"\")\n",
    "    result['vfn'] = \"%s.avi\"%vname[:-6]\n",
    "    \n",
    "    line = f.readline()\n",
    "    while line:\n",
    "        cnt = cnt+1\n",
    "        line = eval(\"[%s]\"%line)\n",
    "        if len(line)>2:\n",
    "            print(\"err\", line)\n",
    "            return result\n",
    "        \n",
    "        res[line[0]] = line[1]\n",
    "        line = f.readline()\n",
    "    \n",
    "    f.close()\n",
    "    result['res'] = res\n",
    "    result['cnt'] = cnt\n",
    "    return result\n",
    "\n",
    "r = _read_box_desc(txt_files[0])\n",
    "print(r['fn'])\n",
    "print(r['vfn'])\n",
    "print(r['cnt'])\n",
    "print(r['name'])\n",
    "#print(r['res'])"
   ]
  },
  {
   "cell_type": "code",
   "execution_count": 5,
   "metadata": {},
   "outputs": [],
   "source": [
    "## for debugging\n",
    "def _pick_color(id):\n",
    "    if id==0:\n",
    "        cr = (0,0,200)\n",
    "    elif id==1:\n",
    "        cr = (0,200,0)\n",
    "    elif id==2: \n",
    "        cr = (200,0,0)\n",
    "    elif id==3: \n",
    "        cr = (0,100,100)\n",
    "    elif id==4: \n",
    "        cr = (100,100, 0)\n",
    "    else:\n",
    "        cr = (255,255,255)\n",
    "    \n",
    "    return cr"
   ]
  },
  {
   "cell_type": "code",
   "execution_count": 7,
   "metadata": {},
   "outputs": [],
   "source": [
    "from pascal_voc_writer import Writer"
   ]
  },
  {
   "cell_type": "code",
   "execution_count": 8,
   "metadata": {},
   "outputs": [],
   "source": [
    "def _build_filename(vname, cnt, idx):\n",
    "    ostr = \"%s_f%05d_%05d\"%(vname, cnt, idx)\n",
    "    return ostr"
   ]
  },
  {
   "cell_type": "code",
   "execution_count": 9,
   "metadata": {},
   "outputs": [],
   "source": [
    "## Read target video files and extract frames as image file according to the description file\n",
    "def _capture_image_from_desc_voc(img_prefix, desc, out_txt_name, out_folder, wBox=True):\n",
    "    ##{out_folder}/images\n",
    "    ##{out_folder}/annotations\n",
    "    ##{out_folder}/logs/{lname}\n",
    "    \n",
    "    print(desc['vfn'], desc['name'])\n",
    "    \n",
    "    #input video path\n",
    "    vf = desc['vfn']\n",
    "    #output training_set name\n",
    "    lname = desc['name']\n",
    "    \n",
    "    if not os.path.isfile(vf):\n",
    "        print(\"wrong video file\")\n",
    "        return\n",
    "    \n",
    "    #output log folder path\n",
    "    out_log_folder = os.path.join(out_folder,'log', lname)\n",
    "    if not os.path.isdir(out_log_folder):\n",
    "        print(\"create out log  dir %s\"%out_log_folder)\n",
    "        os.makedirs(out_log_folder)\n",
    "    else:\n",
    "        print(\"%s already existed, pass this avi\"%lname)\n",
    "        return\n",
    "\n",
    "    #output image folder\n",
    "    out_img_folder = os.path.join(out_folder,'images')\n",
    "    if not os.path.isdir(out_img_folder):\n",
    "        #print(\"create out log  dir %s\"%out_log_folder)\n",
    "        os.makedirs(out_img_folder)\n",
    "\n",
    "    #output anno folder\n",
    "    out_anno_folder = os.path.join(out_folder,'annotations')\n",
    "    if not os.path.isdir(out_anno_folder):\n",
    "        os.makedirs(out_anno_folder)        \n",
    "        \n",
    "    #output training set index file\n",
    "    if out_txt_name == '':\n",
    "        out_txt_name = 'train.txt'\n",
    "        out_txt_log_name = 'train_log.txt'\n",
    "    else:\n",
    "        out_txt_name = '%s.txt'%out_txt_name\n",
    "        out_txt_log_name = '%s_log.txt'%out_txt_name\n",
    "        \n",
    "    out_txt_path = os.path.join(out_log_folder, out_txt_name)\n",
    "    out_txt_log_path = os.path.join(out_log_folder, out_txt_log_name)\n",
    "    \n",
    "    #print(\"output img\\n%s \\ntxt\\n%s \\nlog\\n%s\"%(out_img_folder,out_txt_path,out_txt_log_path))\n",
    "    \n",
    "    fw = open(out_txt_path,'w')\n",
    "    fw_log = open(out_txt_log_path,'w')\n",
    "    \n",
    "    #read video files\n",
    "    cap = cv2.VideoCapture(vf)\n",
    "    timeout = 0\n",
    "    while not cap.isOpened():\n",
    "        #cap = cv2.VideoCapture(vf)\n",
    "        cv2.waitKey(1000)\n",
    "        print(\"Wait for the header\")\n",
    "        timeout = timeout +1\n",
    "        if(timeout>10):\n",
    "            break\n",
    "    #print(cap.isOpened())\n",
    "    total_frames = cap.get(7) ## CV_CAP_PROP_FRAME_COUNT\n",
    "    print(\"total_frames %d\"%total_frames)    \n",
    "    \n",
    "    res = desc['res']\n",
    "    fcnt = 0\n",
    "    \n",
    "    for f_idx in tqdm(res.keys()):#go through specific frames and save it\n",
    "        if f_idx>total_frames:\n",
    "            print(\"parse error. incorrect frame idx %d-%d\"%(f_idx,total_frames))\n",
    "            return\n",
    "        \n",
    "        #print(f_idx, res[f_idx])\n",
    "        fw_log.write(\"%s %s\\n\"%(f_idx,str(res[f_idx])))\n",
    "        cap.set(1, f_idx) #CV_CAP_PROP_POS_FRAMES, frame_num\n",
    "        ret, frame = cap.read()\n",
    "        if ret == False:\n",
    "            print(\"%s read failed, ignore it\"%vf)\n",
    "            continue\n",
    "        fcnt = fcnt +1\n",
    "        img_path = os.path.join(out_img_folder, \"%s.jpg\"%(_build_filename(lname,fcnt,f_idx)))\n",
    "        cv2.imwrite(img_path, frame)\n",
    "        out_str = \"%s\"%(os.path.abspath(img_path))\n",
    "        frame_box = frame\n",
    "        TYPE_BUG = 0\n",
    "        TYPE_UNKNOWN = 1\n",
    "        writer = Writer(img_path, 1280, 720)\n",
    "        for bug_id,left,right in res[f_idx]:\n",
    "            #print(bug_id,left,right)\n",
    "            cr = _pick_color(bug_id)\n",
    "            cv2.rectangle(frame_box,left,right,cr,2)       \n",
    "            cv2.putText(frame_box,str(bug_id),left,0,1,cr)\n",
    "            out_str = \"%s %d,%d,%d,%d,%d\"%(out_str, left[0], left[1], right[0], right[1], TYPE_BUG)\n",
    "            if bug_id!=5:\n",
    "                writer.addObject('beetle%d'%bug_id, left[0], left[1], right[0], right[1])\n",
    "        \n",
    "        anno_path = os.path.join(out_anno_folder, \"%s.xml\"%(_build_filename(lname,fcnt,f_idx)))\n",
    "        writer.save(anno_path)\n",
    "        out_str = \"%s\\n%s\\n\"%(out_str,anno_path)\n",
    "        fw.write(out_str)\n",
    "        \n",
    "        if wBox:\n",
    "            img_path_b = os.path.join(out_img_folder, \"%s_box.jpg\"%(_build_filename(lname,fcnt,f_idx)))\n",
    "            cv2.imwrite(img_path_b, frame_box)\n",
    "    \n",
    "    fw.close()\n",
    "    fw_log.close()\n",
    "    cap.release()    \n",
    "    cv2.destroyAllWindows()\n",
    "    print(\"capture done %s\"%vf)\n",
    "    return \n",
    "\n",
    "#ff = _capture_image_from_desc(r, '', './ds_train/')\n"
   ]
  },
  {
   "cell_type": "raw",
   "metadata": {},
   "source": [
    "## Read target video files and extract frames as image file according to the description file\n",
    "def _capture_image_from_desc(desc, out_txt_name, out_img_folder, wBox=True):\n",
    "    print(desc['vfn'], desc['name'])\n",
    "    \n",
    "    #input video path\n",
    "    vf = desc['vfn']\n",
    "    #output training_set name\n",
    "    lname = desc['name']\n",
    "    \n",
    "    if not os.path.isfile(vf):\n",
    "        print(\"wrong video file\")\n",
    "        return\n",
    "    \n",
    "    #output image folder path\n",
    "    out_img_folder = os.path.join(out_img_folder, lname)\n",
    "    if not os.path.isdir(out_img_folder):\n",
    "        print(\"create out dir %s\"%out_img_folder)\n",
    "        os.makedirs(out_img_folder)\n",
    "    \n",
    "    #output training set index file\n",
    "    if out_txt_name == '':\n",
    "        out_txt_name = 'train.txt'\n",
    "        out_txt_log_name = 'train_log.txt'\n",
    "    else:\n",
    "        out_txt_name = '%s.txt'%out_txt_name\n",
    "        out_txt_log_name = '%s_log.txt'%out_txt_name\n",
    "        \n",
    "    out_txt_path = os.path.join(out_img_folder, out_txt_name)\n",
    "    out_txt_log_path = os.path.join(out_img_folder, out_txt_log_name)\n",
    "    print(\"output img\\n%s \\ntxt\\n%s \\nlog\\n%s\"%(out_img_folder,out_txt_path,out_txt_log_path))\n",
    "    fw = open(out_txt_path,'w')\n",
    "    fw_log = open(out_txt_log_path,'w')\n",
    "    \n",
    "    #read video files\n",
    "    cap = cv2.VideoCapture(vf)\n",
    "    timeout = 0\n",
    "    while not cap.isOpened():\n",
    "        #cap = cv2.VideoCapture(vf)\n",
    "        cv2.waitKey(1000)\n",
    "        print(\"Wait for the header\")\n",
    "        timeout = timeout +1\n",
    "        if(timeout>10):\n",
    "            break\n",
    "    #print(cap.isOpened())\n",
    "    total_frames = cap.get(7) ## CV_CAP_PROP_FRAME_COUNT\n",
    "    print(\"total_frames %d\"%total_frames)    \n",
    "    \n",
    "    res = desc['res']\n",
    "    fcnt = 0\n",
    "    \n",
    "    \n",
    "    for f_idx in tqdm(res.keys()):#go through specific frames and save it\n",
    "        if f_idx>total_frames:\n",
    "            print(\"parse error. incorrect frame idx %d-%d\"%(f_idx,total_frames))\n",
    "            return\n",
    "        \n",
    "        #print(f_idx, res[f_idx])\n",
    "        fw_log.write(\"%s %s\\n\"%(f_idx,str(res[f_idx])))\n",
    "        cap.set(1, f_idx) #CV_CAP_PROP_POS_FRAMES, frame_num\n",
    "        ret, frame = cap.read()\n",
    "        if ret == False:\n",
    "            print(\"%s read failed, ignore it\"%vf)\n",
    "            continue\n",
    "            \n",
    "        fcnt = fcnt +1\n",
    "        img_path = os.path.join(out_img_folder, \"f%05d_%05d.jpg\"%(fcnt, f_idx))\n",
    "        cv2.imwrite(img_path, frame)\n",
    "        out_str = \"%s\"%(os.path.abspath(img_path))\n",
    "        frame_box = frame\n",
    "        TYPE_BUG = 0\n",
    "        TYPE_UNKNOWN = 1\n",
    "        writer = Writer(img_path, 1280, 720)\n",
    "        for bug_id,left,right in res[f_idx]:\n",
    "            #print(bug_id,left,right)\n",
    "            cr = _pick_color(bug_id)\n",
    "            cv2.rectangle(frame_box,left,right,cr,2)       \n",
    "            cv2.putText(frame_box,str(bug_id),left,0,1,cr)\n",
    "            out_str = \"%s %d,%d,%d,%d,%d\"%(out_str, left[0], left[1], right[0], right[1], TYPE_BUG)\n",
    "            writer.addObject('beetle', left[0], left[1], right[0], right[1])\n",
    "        \n",
    "        writer.save(\"ds_train/anno/f%05d_%05d.xml\"%(fcnt, f_idx))\n",
    "\n",
    "        out_str = \"%s\\n\"%out_str\n",
    "        fw.write(out_str)\n",
    "        if wBox:\n",
    "            img_path_b = os.path.join(out_img_folder, \"f%05d_%05d_box.jpg\"%(fcnt, f_idx))\n",
    "            cv2.imwrite(img_path_b, frame_box)\n",
    "        \n",
    "        #if fcnt>10:\n",
    "        #    break\n",
    "    \n",
    "    fw.close()\n",
    "    fw_log.close()\n",
    "    cap.release()    \n",
    "    cv2.destroyAllWindows()\n",
    "    print(\"capture done %s\"%vf)\n",
    "    return \n",
    "\n",
    "#ff = _capture_image_from_desc(r, '', './ds_train/')\n"
   ]
  },
  {
   "cell_type": "code",
   "execution_count": 10,
   "metadata": {},
   "outputs": [
    {
     "name": "stderr",
     "output_type": "stream",
     "text": [
      "  0%|          | 0/300 [00:00<?, ?it/s]"
     ]
    },
    {
     "name": "stdout",
     "output_type": "stream",
     "text": [
      "./datasets/beetle-tracking/Detection_data/[CH01] 2016-10-14 19.20.00_x264.avi [CH01]2016-10-1419.20.00_x264_label\n",
      "create out log  dir ./ds_train_small_classes/log/[CH01]2016-10-1419.20.00_x264_label\n",
      "total_frames 26967\n"
     ]
    },
    {
     "name": "stderr",
     "output_type": "stream",
     "text": [
      "100%|██████████| 300/300 [01:21<00:00,  4.45it/s]\n",
      "  0%|          | 0/300 [00:00<?, ?it/s]"
     ]
    },
    {
     "name": "stdout",
     "output_type": "stream",
     "text": [
      "capture done ./datasets/beetle-tracking/Detection_data/[CH01] 2016-10-14 19.20.00_x264.avi\n",
      "./datasets/beetle-tracking/Detection_data/[CH01] 2016-10-20 19.50.00_x264.avi [CH01]2016-10-2019.50.00_x264_label\n",
      "create out log  dir ./ds_train_small_classes/log/[CH01]2016-10-2019.50.00_x264_label\n",
      "total_frames 26967\n"
     ]
    },
    {
     "name": "stderr",
     "output_type": "stream",
     "text": [
      "100%|██████████| 300/300 [04:11<00:00,  3.25it/s]\n",
      "  0%|          | 0/300 [00:00<?, ?it/s]"
     ]
    },
    {
     "name": "stdout",
     "output_type": "stream",
     "text": [
      "capture done ./datasets/beetle-tracking/Detection_data/[CH01] 2016-10-20 19.50.00_x264.avi\n",
      "./datasets/beetle-tracking/Detection_data/[CH01] 2016-10-28 19.20.00_x264.avi [CH01]2016-10-2819.20.00_x264_label\n",
      "create out log  dir ./ds_train_small_classes/log/[CH01]2016-10-2819.20.00_x264_label\n",
      "total_frames 26967\n"
     ]
    },
    {
     "name": "stderr",
     "output_type": "stream",
     "text": [
      "100%|██████████| 300/300 [01:16<00:00,  4.48it/s]\n",
      "  0%|          | 0/300 [00:00<?, ?it/s]"
     ]
    },
    {
     "name": "stdout",
     "output_type": "stream",
     "text": [
      "capture done ./datasets/beetle-tracking/Detection_data/[CH01] 2016-10-28 19.20.00_x264.avi\n",
      "./datasets/beetle-tracking/Detection_data/[CH01] 2016-11-05 20.20.00_x264.avi [CH01]2016-11-0520.20.00_x264_label\n",
      "create out log  dir ./ds_train_small_classes/log/[CH01]2016-11-0520.20.00_x264_label\n",
      "total_frames 26967\n"
     ]
    },
    {
     "name": "stderr",
     "output_type": "stream",
     "text": [
      "100%|██████████| 300/300 [02:47<00:00,  7.52s/it]\n"
     ]
    },
    {
     "name": "stdout",
     "output_type": "stream",
     "text": [
      "capture done ./datasets/beetle-tracking/Detection_data/[CH01] 2016-11-05 20.20.00_x264.avi\n"
     ]
    }
   ],
   "source": [
    "##main\n",
    "txt_files = _get_all_txt(dataset_path)\n",
    "idx = 0\n",
    "for txt in sorted(txt_files):\n",
    "    idx = idx+1\n",
    "    d = _read_box_desc(txt)\n",
    "    _capture_image_from_desc_voc(idx, d, '', './ds_train_small_classes/',False)\n",
    "    if idx>3:\n",
    "        break"
   ]
  },
  {
   "cell_type": "code",
   "execution_count": null,
   "metadata": {},
   "outputs": [],
   "source": []
  }
 ],
 "metadata": {
  "kernelspec": {
   "display_name": "Python 3",
   "language": "python",
   "name": "python3"
  },
  "language_info": {
   "codemirror_mode": {
    "name": "ipython",
    "version": 3
   },
   "file_extension": ".py",
   "mimetype": "text/x-python",
   "name": "python",
   "nbconvert_exporter": "python",
   "pygments_lexer": "ipython3",
   "version": "3.6.6"
  }
 },
 "nbformat": 4,
 "nbformat_minor": 2
}
