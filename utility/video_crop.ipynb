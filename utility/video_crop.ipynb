{
 "cells": [
  {
   "cell_type": "code",
   "execution_count": 16,
   "metadata": {},
   "outputs": [],
   "source": [
    "import os\n",
    "import cv2\n",
    "from tqdm import tqdm"
   ]
  },
  {
   "cell_type": "code",
   "execution_count": 17,
   "metadata": {},
   "outputs": [],
   "source": [
    "#path: 來源video\n",
    "#output_folder: 輸出frame jpg位置\n",
    "#init_frame: 起始frmae\n",
    "#end_frame: 結束frame\n",
    "def video_crop(path, output_folder, init_frame, end_frame):\n",
    "\n",
    "\n",
    "    init_frame=(init_frame*15)\n",
    "    end_frame=(end_frame*15)\n",
    "    cap = cv2.VideoCapture(path)\n",
    "    timeout = 0\n",
    "    while not cap.isOpened():\n",
    "        cv2.waitKey(1000)\n",
    "        print(\"Wait for the header\")\n",
    "        timeout = timeout +1\n",
    "        if(timeout>10):\n",
    "            break\n",
    "    \n",
    "    if not os.path.isdir(output_folder):\n",
    "        print(\"create out frame dir %s\"%output_folder)\n",
    "        os.makedirs(output_folder)\n",
    "        \n",
    "    total_frames = cap.get(7) ## CV_CAP_PROP_FRAME_COUNT\n",
    "    print(\"total_frames %d\"%total_frames)        \n",
    "    \n",
    "    cap.set(1, init_frame) #CV_CAP_PROP_POS_FRAMES, frame_num\n",
    "    duration = end_frame-init_frame\n",
    "    for i in tqdm(range(duration)):        \n",
    "        f_idx = init_frame+i\n",
    "        ret, frame = cap.read()\n",
    "        if ret == False:\n",
    "            print(\"frame %d read failed, ignore it\"%f_idx)\n",
    "            continue\n",
    "        \n",
    "        img_path = os.path.join(output_folder, \"%s.jpg\"%(f_idx))\n",
    "        cv2.imwrite(img_path, frame)\n",
    "    \n",
    "    print(\"Generated %d frames!\"%duration)\n",
    "    cap.release()   \n",
    "    return"
   ]
  },
  {
   "cell_type": "code",
   "execution_count": 21,
   "metadata": {},
   "outputs": [
    {
     "name": "stderr",
     "output_type": "stream",
     "text": [
      "  0%|          | 0/60 [00:00<?, ?it/s]"
     ]
    },
    {
     "name": "stdout",
     "output_type": "stream",
     "text": [
      "total_frames 26967\n"
     ]
    },
    {
     "name": "stderr",
     "output_type": "stream",
     "text": [
      "100%|██████████| 60/60 [00:06<00:00,  9.20it/s]"
     ]
    },
    {
     "name": "stdout",
     "output_type": "stream",
     "text": [
      "Generated 60 frames!\n"
     ]
    },
    {
     "name": "stderr",
     "output_type": "stream",
     "text": [
      "\n"
     ]
    }
   ],
   "source": [
    "\n",
    "#video_crop(\"./datasets/beetle-tracking/Detection_data/[CH01] 2016-10-14 19.20.00_x264.avi\", \"./out1\", 201, 205)\n",
    "video_crop(\"./datasets/beetle-action/videos with action/n3829_CH01_2016-9-28_19.20.00\", \"./attack/201609281920/action_2\", 392, 396)"
   ]
  },
  {
   "cell_type": "code",
   "execution_count": null,
   "metadata": {},
   "outputs": [],
   "source": []
  }
 ],
 "metadata": {
  "kernelspec": {
   "display_name": "Python 3",
   "language": "python",
   "name": "python3"
  },
  "language_info": {
   "codemirror_mode": {
    "name": "ipython",
    "version": 3
   },
   "file_extension": ".py",
   "mimetype": "text/x-python",
   "name": "python",
   "nbconvert_exporter": "python",
   "pygments_lexer": "ipython3",
   "version": "3.6.6"
  }
 },
 "nbformat": 4,
 "nbformat_minor": 2
}
